{
  "cells": [
    {
      "cell_type": "markdown",
      "source": [
        "# **Unit conversion**"
      ],
      "metadata": {}
    },
    {
      "cell_type": "markdown",
      "source": [
        "molecules/cell to mmol/gDWh"
      ],
      "metadata": {}
    },
    {
      "cell_type": "code",
      "source": [
        "import pandas as pd\n",
        "import seaborn as sns"
      ],
      "outputs": [],
      "execution_count": null,
      "metadata": {}
    },
    {
      "cell_type": "code",
      "source": [
        "#predictions = pd.read_csv(\"~/Projeto_Codon/Atividade_5/predictions_ecyeast7_v1.0.csv\", sep='\\t')\n",
        "#predictions = pd.read_csv(\"~/Projeto_Codon/Atividade_5/predictions_ecyeast8.csv\", sep='\\t')\n",
        "#predictions = pd.read_csv(\"~/Projeto_Codon/Atividade_5/LAHT.csv\", sep='\\t')"
      ],
      "outputs": [],
      "execution_count": null,
      "metadata": {}
    },
    {
      "cell_type": "code",
      "source": [
        "predictions.describe()"
      ],
      "outputs": [],
      "execution_count": null,
      "metadata": {}
    },
    {
      "cell_type": "code",
      "source": [
        "p_total = 0.448     # g/gDW\n",
        "density = 1.5e7     # cells/mL \n",
        "gDW = 3             # gDW/L (10.1111/j.1472-765X.2009.02789.x)"
      ],
      "outputs": [],
      "execution_count": null,
      "metadata": {}
    },
    {
      "cell_type": "code",
      "source": [
        "def convert_mmol_gDW(protein, MW, fraction):\n",
        "    cell_gDW = (density*1000) / gDW\n",
        "    gDW_cell = gDW / (density*1000)\n",
        "    g_prot = p_total/cell_gDW\n",
        "    prot_g = (g_prot * fraction)\n",
        "    prot_ggDW = prot_g / gDW_cell\n",
        "    mmol_gDW = (prot_ggDW / MW) * 1000\n",
        "    \n",
        "    return str(protein), mmol_gDW"
      ],
      "outputs": [],
      "execution_count": null,
      "metadata": {}
    },
    {
      "cell_type": "code",
      "source": [
        "ALL_abundance = []\n",
        "for protein, MW, fraction in zip(predictions['Protein'], predictions['mw'], predictions['ALL_fraction']):\n",
        "    result = convert_mmol_gDW(protein, MW, fraction)\n",
        "    ALL_abundance.append(result)\n",
        "ALL_abundance = pd.DataFrame(ALL_abundance)"
      ],
      "outputs": [],
      "execution_count": null,
      "metadata": {
        "scrolled": true
      }
    },
    {
      "cell_type": "code",
      "source": [
        "YPD_abundance = []\n",
        "for protein, MW, fraction in zip(predictions['Protein'], predictions['mw'], predictions['YPD_fraction']):\n",
        "    result = convert_mmol_gDW(protein, MW, fraction)\n",
        "    YPD_abundance.append(result)\n",
        "YPD_abundance = pd.DataFrame(YPD_abundance)"
      ],
      "outputs": [],
      "execution_count": null,
      "metadata": {
        "scrolled": true
      }
    },
    {
      "cell_type": "code",
      "source": [
        "MIN_abundance = []\n",
        "for protein, MW, fraction in zip(predictions['Protein'], predictions['mw'], predictions['MIN_fraction']):\n",
        "    result = convert_mmol_gDW(protein, MW, fraction)\n",
        "    MIN_abundance.append(result)\n",
        "MIN_abundance = pd.DataFrame(MIN_abundance)"
      ],
      "outputs": [],
      "execution_count": null,
      "metadata": {
        "scrolled": true
      }
    },
    {
      "cell_type": "code",
      "source": [
        "LAHT_abundance = []\n",
        "for protein, MW, fraction in zip(predictions['Protein'], predictions['mw'], predictions['LAHT_fraction']):\n",
        "    result = convert_mmol_gDW(protein, MW, fraction)\n",
        "    LAHT_abundance.append(result)\n",
        "LAHT_abundance = pd.DataFrame(LAHT_abundance)"
      ],
      "outputs": [],
      "execution_count": null,
      "metadata": {}
    },
    {
      "cell_type": "code",
      "source": [
        "data = pd.DataFrame()\n",
        "\n",
        "data['Protein'] = ALL_abundance[0]\n",
        "data['ALL'] = ALL_abundance[1]\n",
        "data['MIN'] = MIN_abundance[1]\n",
        "data['YPD'] = YPD_abundance[1]\n",
        "\n",
        "data.to_csv(\"~/Projeto_Codon/Atividade_5/predictions_ecyeast8_mmolgDW.csv\", sep='\\t')"
      ],
      "outputs": [],
      "execution_count": null,
      "metadata": {}
    },
    {
      "cell_type": "code",
      "source": [
        "sns.set(style=\"darkgrid\")\n",
        "sns.jointplot(x='MIN', \n",
        "              y='YPD', \n",
        "              data=data, \n",
        "              kind=\"reg\", \n",
        "              truncate=False, \n",
        "              #color=\"m\", \n",
        "              height=8)"
      ],
      "outputs": [],
      "execution_count": null,
      "metadata": {}
    },
    {
      "cell_type": "code",
      "source": [
        "data = pd.DataFrame()\n",
        "\n",
        "data['Protein'] = LAHT_abundance[0]\n",
        "data['LAHT'] = LAHT_abundance[1]\n",
        "\n",
        "data.to_csv(\"~/Projeto_Codon/Atividade_5/LAHT_mmolgDW.csv\", sep='\\t')"
      ],
      "outputs": [],
      "execution_count": null,
      "metadata": {}
    }
  ],
  "metadata": {
    "kernelspec": {
      "display_name": "Python 3",
      "language": "python",
      "name": "python3"
    },
    "language_info": {
      "codemirror_mode": {
        "name": "ipython",
        "version": 3
      },
      "file_extension": ".py",
      "mimetype": "text/x-python",
      "name": "python",
      "nbconvert_exporter": "python",
      "pygments_lexer": "ipython3",
      "version": "3.7.3"
    },
    "nteract": {
      "version": "0.24.1"
    }
  },
  "nbformat": 4,
  "nbformat_minor": 4
}